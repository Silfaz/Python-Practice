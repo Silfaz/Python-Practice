{
 "cells": [
  {
   "cell_type": "markdown",
   "metadata": {},
   "source": [
    "# FUNCTIONS\n",
    "\n",
    "A function is a block of organized, reusable code that is used to perform a single, related action. Python gives you many built-in functions like print(), etc. but you can also create your own functions. These functions are called user-defined functions.\n",
    "\n",
    "### Defining a Function\n",
    "\n",
    "You can define functions to provide the required functionality. Here are simple rules to define a function in Python.\n",
    "\n",
    "* Function blocks begin with the keyword `def` followed by the function name and parentheses ( ( ) ).\n",
    "\n",
    "* Any input parameters or arguments should be placed within these parentheses. You can also define parameters inside these parentheses.\n",
    "\n",
    "* The first statement of a function can be an optional statement - the documentation string of the function or docstring (--> docstrings have to be a string, i.e. in quotes. The docstring will come up when you type `help(yourfunction)`. \n",
    "\n",
    "* The code block within every function starts with a colon (:) and is indented.\n",
    "\n",
    "* The statement `return` [expression] exits a function, optionally passing back an expression to the caller. A return statement with no arguments is the same as return None.\n",
    "\n",
    "\n"
   ]
  },
  {
   "cell_type": "code",
   "execution_count": 21,
   "metadata": {
    "collapsed": true
   },
   "outputs": [],
   "source": [
    "def printme (string): \n",
    "    \"This prints a string passed into this function\" #this is the docstring\n",
    "    print (string)\n",
    "    return"
   ]
  },
  {
   "cell_type": "code",
   "execution_count": 22,
   "metadata": {},
   "outputs": [
    {
     "name": "stdout",
     "output_type": "stream",
     "text": [
      "Hello\n"
     ]
    }
   ],
   "source": [
    "printme(\"Hello\")"
   ]
  },
  {
   "cell_type": "code",
   "execution_count": 23,
   "metadata": {},
   "outputs": [
    {
     "name": "stdout",
     "output_type": "stream",
     "text": [
      "Help on function printme in module __main__:\n",
      "\n",
      "printme(string)\n",
      "    This prints a string passed into this function\n",
      "\n"
     ]
    }
   ],
   "source": [
    "help(printme) #shows the docstring"
   ]
  },
  {
   "cell_type": "markdown",
   "metadata": {},
   "source": [
    "## Practice Function 1: `exponum`\n",
    "Now I will write a function that takes two numbers, calculates number 1 (`number`) to the power of number 2 (`exponent`), and prints out the result."
   ]
  },
  {
   "cell_type": "code",
   "execution_count": 24,
   "metadata": {
    "collapsed": true
   },
   "outputs": [],
   "source": [
    "def exponum (number, exponent):\n",
    "    \"This takes number 1 to the power of number 2 and prints out the result\" #docstring\n",
    "    print (number**exponent)\n",
    "    return\n",
    "    \n",
    "    "
   ]
  },
  {
   "cell_type": "code",
   "execution_count": 25,
   "metadata": {},
   "outputs": [
    {
     "name": "stdout",
     "output_type": "stream",
     "text": [
      "28561\n"
     ]
    }
   ],
   "source": [
    "exponum (13, 4)"
   ]
  },
  {
   "cell_type": "markdown",
   "metadata": {},
   "source": [
    "## Practice Function 2: `maxnum`\n",
    "\n",
    "Write a function that finds the maximum of three numbers you give it."
   ]
  },
  {
   "cell_type": "code",
   "execution_count": 43,
   "metadata": {},
   "outputs": [],
   "source": [
    "def maxnum (number1, number2, number3):\n",
    "    \"This takes three numbers and prints the highest number\" #docstring\n",
    "    if (number1 > number2) and (number1 > number3): \n",
    "        print (\"The highest number is \" + str(number1))\n",
    "    elif (number2 > number1) and (number2 > number3):\n",
    "        print (\"The highest number is \" + str(number2))\n",
    "    elif (number3 > number1) and (number3 > number2): \n",
    "        print (\"The highest number is \" + str(number3))\n",
    "    elif (number1 == number2) or (number2 == number3) or (number3 == number1):\n",
    "        print (\"Some of the numbers are the same. Please pick three different numbers.\")\n",
    "\n",
    "    return"
   ]
  },
  {
   "cell_type": "code",
   "execution_count": 46,
   "metadata": {},
   "outputs": [
    {
     "name": "stdout",
     "output_type": "stream",
     "text": [
      "The highest number is 15\n"
     ]
    }
   ],
   "source": [
    "maxnum (15, 2, 3)"
   ]
  },
  {
   "cell_type": "markdown",
   "metadata": {},
   "source": [
    "maxnum (14, 22, 13)"
   ]
  },
  {
   "cell_type": "code",
   "execution_count": 45,
   "metadata": {},
   "outputs": [
    {
     "name": "stdout",
     "output_type": "stream",
     "text": [
      "The highest number is 22\n"
     ]
    }
   ],
   "source": [
    "maxnum (13, 22, 13)"
   ]
  },
  {
   "cell_type": "code",
   "execution_count": 47,
   "metadata": {},
   "outputs": [
    {
     "name": "stdout",
     "output_type": "stream",
     "text": [
      "Some of the numbers are the same. Please pick three different numbers.\n"
     ]
    }
   ],
   "source": [
    "maxnum (12, 12, 5)"
   ]
  },
  {
   "cell_type": "code",
   "execution_count": 49,
   "metadata": {},
   "outputs": [
    {
     "name": "stdout",
     "output_type": "stream",
     "text": [
      "The highest number is 86\n",
      "None\n"
     ]
    }
   ],
   "source": [
    "duncan = maxnum (84, 85, 86)\n",
    "print (duncan)"
   ]
  },
  {
   "cell_type": "markdown",
   "metadata": {},
   "source": [
    "If I want to use the output the function in another line of code (e.g. assign it to a variable), it needs to be returned, not just printed out onto the screen. \n",
    "\n",
    "Modify the `maxnum` function so it doesn't print but returns the number instead. "
   ]
  },
  {
   "cell_type": "code",
   "execution_count": 68,
   "metadata": {},
   "outputs": [],
   "source": [
    "def maxnum2 (number1, number2, number3):\n",
    "    \"This takes three numbers and returns the highest number\" #docstring\n",
    "    if (number1 > number2) and (number1 > number3): #condition 1\n",
    "        return number1 #if condition 1 is fulfilled, function is exited here and number1 is returned\n",
    "    elif (number2 > number1) and (number2 > number3): #condition 2\n",
    "        return number2 #if condition 2 is fulfilled, function is exited here and number2 is returned\n",
    "    elif (number3 > number1) and (number3 > number2): #condition 3\n",
    "        return number3 #if condition 3 is fulfilled, function is exited here and number3 is returned\n",
    "    elif (number1 == number2) or (number2 == number3) or (number3 == number1):\n",
    "        print (\"Some of the numbers are the same. Please pick three different numbers.\")\n",
    "        #if some numbers are the same, don't return anything, but print an error message\n",
    "    else:\n",
    "        print (\"Error! None of the conditions were fulfilled.\")\n",
    "    return"
   ]
  },
  {
   "cell_type": "code",
   "execution_count": 80,
   "metadata": {},
   "outputs": [
    {
     "data": {
      "text/plain": [
       "3"
      ]
     },
     "execution_count": 80,
     "metadata": {},
     "output_type": "execute_result"
    }
   ],
   "source": [
    "maxnum2 (1, 2, 3)"
   ]
  },
  {
   "cell_type": "code",
   "execution_count": 82,
   "metadata": {},
   "outputs": [
    {
     "data": {
      "text/plain": [
       "'Silfa'"
      ]
     },
     "execution_count": 82,
     "metadata": {},
     "output_type": "execute_result"
    }
   ],
   "source": [
    "maxnum2 (\"Duncan\", \"Silfa\", \"Laika\")"
   ]
  },
  {
   "cell_type": "code",
   "execution_count": 85,
   "metadata": {},
   "outputs": [],
   "source": [
    "duncan = maxnum2 (94, 95, 96)"
   ]
  },
  {
   "cell_type": "code",
   "execution_count": 86,
   "metadata": {},
   "outputs": [
    {
     "name": "stdout",
     "output_type": "stream",
     "text": [
      "96\n"
     ]
    }
   ],
   "source": [
    "print (duncan)"
   ]
  },
  {
   "cell_type": "markdown",
   "metadata": {},
   "source": [
    "An alternative way to code this is to first define a function that returns the highest number of two (`highnum2`), and then define another function (`highnum3`) that uses the output of `highnum2`. "
   ]
  },
  {
   "cell_type": "code",
   "execution_count": 96,
   "metadata": {},
   "outputs": [],
   "source": [
    "def highnum2 (number1, number2):\n",
    "    \"This takes 2 numbers and returns the highst of the two\" #docstring\n",
    "    if (number1 > number2): #condition 1\n",
    "        return number1 #if condition 1 is fulfilled, function is exited here and number1 is returned\n",
    "    elif (number2 > number1): #condition 2\n",
    "        return number2 #if condition 2 is fulfilled, function is exited here and number2 is returned\n",
    "    else:\n",
    "        return"
   ]
  },
  {
   "cell_type": "code",
   "execution_count": 104,
   "metadata": {},
   "outputs": [
    {
     "data": {
      "text/plain": [
       "4"
      ]
     },
     "execution_count": 104,
     "metadata": {},
     "output_type": "execute_result"
    }
   ],
   "source": [
    "highnum2 (2 ,4)"
   ]
  },
  {
   "cell_type": "code",
   "execution_count": 105,
   "metadata": {},
   "outputs": [],
   "source": [
    "def highnum3 (number1, number2, number3):\n",
    "    \"This takes 3 numbers and returns the highst of the three\" #docstring\n",
    "    if (highnum2 (number1, number2) > number3): #condition 1\n",
    "        return highnum2 (number1, number2) #if condition 1 is fulfilled, function is exited here and number1 is returned\n",
    "    else:\n",
    "        return number3 #if conditions 1 is not fulfilled, number 3 is returned as the highest number"
   ]
  },
  {
   "cell_type": "code",
   "execution_count": 106,
   "metadata": {},
   "outputs": [
    {
     "data": {
      "text/plain": [
       "6"
      ]
     },
     "execution_count": 106,
     "metadata": {},
     "output_type": "execute_result"
    }
   ],
   "source": [
    "highnum3 (3, 5, 6)"
   ]
  },
  {
   "cell_type": "code",
   "execution_count": 107,
   "metadata": {},
   "outputs": [
    {
     "data": {
      "text/plain": [
       "56"
      ]
     },
     "execution_count": 107,
     "metadata": {},
     "output_type": "execute_result"
    }
   ],
   "source": [
    "highnum3 (56, 2, 4)"
   ]
  }
 ],
 "metadata": {
  "kernelspec": {
   "display_name": "Python 3",
   "language": "python",
   "name": "python3"
  },
  "language_info": {
   "codemirror_mode": {
    "name": "ipython",
    "version": 3
   },
   "file_extension": ".py",
   "mimetype": "text/x-python",
   "name": "python",
   "nbconvert_exporter": "python",
   "pygments_lexer": "ipython3",
   "version": "3.6.3"
  }
 },
 "nbformat": 4,
 "nbformat_minor": 2
}
