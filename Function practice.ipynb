{
 "cells": [
  {
   "cell_type": "markdown",
   "metadata": {},
   "source": [
    "# FUNCTIONS\n",
    "\n",
    "A function is a block of organized, reusable code that is used to perform a single, related action. Python gives you many built-in functions like `print()`, etc. but you can also create your own functions. These functions are called **user-defined functions**.\n",
    "\n",
    "### Defining a Function\n",
    "\n",
    "You can define functions to provide the required functionality. Here are simple rules to define a function in Python.\n",
    "\n",
    "* Function blocks begin with the keyword **`def`** followed by the **function name** and parentheses **( )**.\n",
    "\n",
    "* Any input parameters or **arguments** should be placed within these parentheses. You can also define parameters inside these parentheses.\n",
    "\n",
    "* The first statement of a function can be an optional statement - the documentation string of the function or **docstring** (--> docstrings have to be a string, i.e. in quotes. The docstring will come up when you type `help(yourfunction)`. \n",
    "\n",
    "* The code block within every function starts with a **colon (:)** and is indented.\n",
    "\n",
    "* The statement **`return`** [expression] exits a function, optionally passing back an expression to the caller. A return statement with no arguments is the same as return None.\n",
    "\n",
    "\n"
   ]
  },
  {
   "cell_type": "markdown",
   "metadata": {},
   "source": [
    "## Practice 1: `printme`\n",
    "\n",
    "\n",
    "So to start with, let's write a really simple function that takes a string and prints it onto the screen. "
   ]
  },
  {
   "cell_type": "code",
   "execution_count": 2,
   "metadata": {
    "collapsed": true
   },
   "outputs": [],
   "source": [
    "def printme (inputString): #function name is printme\n",
    "    \"This prints a string passed into this function\" #this is the docstring\n",
    "    print (inputString) #this is what should happen with the string\n",
    "    return"
   ]
  },
  {
   "cell_type": "markdown",
   "metadata": {},
   "source": [
    "The function is now defined, but not executed yet. Only when I call the function, by typing the function name `printme` following a string in parantheses (= `inputString`) will the function, i.e. everything that's happening in the block of code above, be carried out. "
   ]
  },
  {
   "cell_type": "code",
   "execution_count": 3,
   "metadata": {},
   "outputs": [
    {
     "name": "stdout",
     "output_type": "stream",
     "text": [
      "Hello! Let's try this function!\n"
     ]
    }
   ],
   "source": [
    "printme(\"Hello! Let's try this function!\")"
   ]
  },
  {
   "cell_type": "markdown",
   "metadata": {},
   "source": [
    "The docstring, i.e. the first indented line in a function definition, is basically an explanation of what the function does. The docstring comes up when you type `help` and the function name in parantheses. "
   ]
  },
  {
   "cell_type": "code",
   "execution_count": 4,
   "metadata": {},
   "outputs": [
    {
     "name": "stdout",
     "output_type": "stream",
     "text": [
      "Help on function printme in module __main__:\n",
      "\n",
      "printme(inputString)\n",
      "    This prints a string passed into this function\n",
      "\n"
     ]
    }
   ],
   "source": [
    "help(printme) #shows the docstring"
   ]
  },
  {
   "cell_type": "markdown",
   "metadata": {},
   "source": [
    "Ok, so let's get some more practice using functions!\n",
    "\n",
    "----\n",
    "\n",
    "## Practice Function 2: `exponum`\n",
    "I want to write a function that takes two numbers, calculates number 1 (`number`) to the power of number 2 (`exponent`), and prints out the result."
   ]
  },
  {
   "cell_type": "code",
   "execution_count": 7,
   "metadata": {
    "collapsed": true
   },
   "outputs": [],
   "source": [
    "def exponum (number, exponent):\n",
    "    \"This takes number 1 to the power of number 2 and prints out the result\" #docstring\n",
    "    print (number**exponent)\n",
    "    return   "
   ]
  },
  {
   "cell_type": "code",
   "execution_count": 8,
   "metadata": {},
   "outputs": [
    {
     "name": "stdout",
     "output_type": "stream",
     "text": [
      "28561\n"
     ]
    }
   ],
   "source": [
    "exponum (13, 4)"
   ]
  },
  {
   "cell_type": "markdown",
   "metadata": {},
   "source": [
    "Wohoo, it works! \n",
    "\n",
    "It's good practice to write something useful into the docstring, and also to give the arguments of the function, as well as the function itself, a name that makes sense (not just x, y, z). \n",
    "\n",
    "On to practice #3!\n",
    "\n",
    "----"
   ]
  },
  {
   "cell_type": "markdown",
   "metadata": {},
   "source": [
    "## Practice Function 3: `maxnum`\n",
    "\n",
    "Now I want to write a **function that finds the maximum of three numbers** you give it. There is a function in Python that does that, but I want to try to do it myself. \n",
    "\n",
    "So let's go through the steps that are necessary to achieve that: \n",
    "\n",
    "1) I have three numbers as input\n",
    "\n",
    "2) I want to compare these three numbers to each other. I can do this by comparing number 1 to number 2, number 2 to number 3, etc. \n",
    "\n",
    "3) If number 1 is higher than 2 **and** 3, this means number 1 is the highest number and should be printed out. Written in code, this looks very similar to the sentence I just wrote: `if (number1 > number2) and (number1 > number 3): print \"Number 1 is the highest number\"`\n",
    "\n",
    "4) I repeat step 3 for the numbers 2 and 3 with an `elif` (elseif) statement. \n",
    "\n",
    "5) Finally, in case the input numbers are the same, I'll also include an `elif` statement for that case. \n",
    "\n",
    "The way that `if` statements work is that the computer starts checking the first one, and if it's `True` whatever is indented is executed and then the function is exited. That means, if the first `if` statement is `True`, the other `elif` statements will be completely disregarded. If the first `if` statement is `False`, the computer will go to the next `elif` statement and check if maybe that one is `True`, and so on. There can be as many `elif` statements as you want. It's good to have an `else` statement in the end that is executed if really none of the `if` and `elif` statements are `True`. "
   ]
  },
  {
   "cell_type": "code",
   "execution_count": 20,
   "metadata": {
    "collapsed": true
   },
   "outputs": [],
   "source": [
    "def maxnum (number1, number2, number3):\n",
    "    \"This takes three numbers and prints the highest number\" #docstring\n",
    "    if (number1 > number2) and (number1 > number3): #condition 1\n",
    "        print (\"The highest number is \" + str(number1))  #if condition 1 is fulfilled, the function is exited here and number1 is printed\n",
    "    elif (number2 > number1) and (number2 > number3): #condition 2\n",
    "        print (\"The highest number is \" + str(number2)) #if condition 1 is fulfilled, the function is exited here and number2 is printed\n",
    "    elif (number3 > number1) and (number3 > number2): #condition 3\n",
    "        print (\"The highest number is \" + str(number3)) #if condition 1 is fulfilled, the function is exited here and number3 is printed\n",
    "    elif (number1 == number2) or (number2 == number3) or (number3 == number1): #condition 4\n",
    "        print (\"Some of the numbers are the same. Please pick three different numbers.\") #if some numbers are the same, don't return anything, but print an error message\n",
    "    else: #anything else\n",
    "        print (\"Error! None of the conditions were fulfilled.\")\n",
    "    return"
   ]
  },
  {
   "cell_type": "markdown",
   "metadata": {},
   "source": [
    "Ok, let's try out this function with a couple of numbers."
   ]
  },
  {
   "cell_type": "code",
   "execution_count": 12,
   "metadata": {},
   "outputs": [
    {
     "name": "stdout",
     "output_type": "stream",
     "text": [
      "The highest number is 15\n"
     ]
    }
   ],
   "source": [
    "maxnum (15, 2, 2)"
   ]
  },
  {
   "cell_type": "code",
   "execution_count": 13,
   "metadata": {},
   "outputs": [
    {
     "name": "stdout",
     "output_type": "stream",
     "text": [
      "The highest number is 22\n"
     ]
    }
   ],
   "source": [
    "maxnum (13, 22, 13)"
   ]
  },
  {
   "cell_type": "code",
   "execution_count": 47,
   "metadata": {},
   "outputs": [
    {
     "name": "stdout",
     "output_type": "stream",
     "text": [
      "Some of the numbers are the same. Please pick three different numbers.\n"
     ]
    }
   ],
   "source": [
    "maxnum (12, 12, 5)"
   ]
  },
  {
   "cell_type": "markdown",
   "metadata": {},
   "source": [
    "What happens if I want to use the ouput of the function in another line of code, e.g. assign it to a variable? Let's see:"
   ]
  },
  {
   "cell_type": "code",
   "execution_count": 18,
   "metadata": {},
   "outputs": [
    {
     "name": "stdout",
     "output_type": "stream",
     "text": [
      "The highest number is 86\n"
     ]
    }
   ],
   "source": [
    "duncan = maxnum (84, 85, 86)\n"
   ]
  },
  {
   "cell_type": "code",
   "execution_count": 19,
   "metadata": {},
   "outputs": [
    {
     "name": "stdout",
     "output_type": "stream",
     "text": [
      "None\n"
     ]
    }
   ],
   "source": [
    "print (duncan)"
   ]
  },
  {
   "cell_type": "markdown",
   "metadata": {},
   "source": [
    "So the result of funcition `maxnum` is already printed when I assign the variable. Then if I print the variable, I get the answer `None` and not my number. This is, because in my function `maxnum` the highest number is just printed onto the screen, and not **returned**. But if I want to use the output of the function in another line of code (e.g. assign it to a variable), it needs to be returned, not just printed out onto the screen. \n",
    "\n",
    "I will modify the `maxnum` function so it doesn't print but returns the number instead. "
   ]
  },
  {
   "cell_type": "code",
   "execution_count": 21,
   "metadata": {
    "collapsed": true
   },
   "outputs": [],
   "source": [
    "def maxnum2 (number1, number2, number3):\n",
    "    \"This takes three numbers and returns the highest number\" #docstring\n",
    "    if (number1 > number2) and (number1 > number3): \n",
    "        return number1\n",
    "    elif (number2 > number1) and (number2 > number3):\n",
    "        return number2 \n",
    "    elif (number3 > number1) and (number3 > number2): \n",
    "        return number3 \n",
    "    elif (number1 == number2) or (number2 == number3) or (number3 == number1):\n",
    "        print (\"Some of the numbers are the same. Please pick three different numbers.\")\n",
    "    else:\n",
    "        print (\"Error! None of the conditions were fulfilled.\")\n",
    "    return"
   ]
  },
  {
   "cell_type": "code",
   "execution_count": 80,
   "metadata": {},
   "outputs": [
    {
     "data": {
      "text/plain": [
       "3"
      ]
     },
     "execution_count": 80,
     "metadata": {},
     "output_type": "execute_result"
    }
   ],
   "source": [
    "maxnum2 (1, 2, 3)"
   ]
  },
  {
   "cell_type": "markdown",
   "metadata": {},
   "source": [
    "When the function is not executed, the result is not printed onto the screen but instead just returned. This looks like a small difference, but is actually very important. It means that I can now work with the output of function `maxnum2`. Let's store it in the variable `duncan2`.  "
   ]
  },
  {
   "cell_type": "code",
   "execution_count": 24,
   "metadata": {},
   "outputs": [],
   "source": [
    "duncan2 = maxnum2 (1, 2, 3)"
   ]
  },
  {
   "cell_type": "markdown",
   "metadata": {},
   "source": [
    "Now I can print the content of the variable `duncan2` onto the screen, or I can also use the content of the variable in other things, like calculations."
   ]
  },
  {
   "cell_type": "code",
   "execution_count": 25,
   "metadata": {},
   "outputs": [
    {
     "name": "stdout",
     "output_type": "stream",
     "text": [
      "3\n"
     ]
    }
   ],
   "source": [
    "print (duncan2)"
   ]
  },
  {
   "cell_type": "code",
   "execution_count": 26,
   "metadata": {},
   "outputs": [
    {
     "name": "stdout",
     "output_type": "stream",
     "text": [
      "5\n"
     ]
    }
   ],
   "source": [
    "print (duncan2 + 2)"
   ]
  },
  {
   "cell_type": "markdown",
   "metadata": {},
   "source": [
    "In Python, the **comparison operators** such as `>`, `<`, `==`, etc. do not only work for numbers, but also for strings. Whatever comes later in the alphabeth is considers \"higher\". I can for example compare A, B and C to each other. In that case, B > A and C > B. "
   ]
  },
  {
   "cell_type": "code",
   "execution_count": 27,
   "metadata": {},
   "outputs": [
    {
     "data": {
      "text/plain": [
       "'C'"
      ]
     },
     "execution_count": 27,
     "metadata": {},
     "output_type": "execute_result"
    }
   ],
   "source": [
    "maxnum2 (\"A\", \"B\", \"C\")"
   ]
  },
  {
   "cell_type": "markdown",
   "metadata": {},
   "source": [
    "This also works with whole words or sentences."
   ]
  },
  {
   "cell_type": "code",
   "execution_count": 28,
   "metadata": {},
   "outputs": [
    {
     "data": {
      "text/plain": [
       "'Silfa'"
      ]
     },
     "execution_count": 28,
     "metadata": {},
     "output_type": "execute_result"
    }
   ],
   "source": [
    "maxnum2 (\"Silfa\", \"Duncan\", \"Laika\")"
   ]
  },
  {
   "cell_type": "code",
   "execution_count": 29,
   "metadata": {},
   "outputs": [
    {
     "data": {
      "text/plain": [
       "'Silfa works'"
      ]
     },
     "execution_count": 29,
     "metadata": {},
     "output_type": "execute_result"
    }
   ],
   "source": [
    "maxnum2 (\"Silfa eats\", \"Silfa sleeps\", \"Silfa works\")"
   ]
  },
  {
   "cell_type": "markdown",
   "metadata": {},
   "source": [
    "-----"
   ]
  },
  {
   "cell_type": "markdown",
   "metadata": {},
   "source": [
    "As for every programming task, there is more than one way to achieve a goal. \n",
    "\n",
    "For the simple function `maxnum2`, one alternative would be to \n",
    "* first define a function that returns the highest number of two (`highnum2`), and \n",
    "* then define another, separate function (`highnum3`) that uses the output of `highnum2` (i.e. the higher of two numbers) and compares it to another number. \n",
    "\n",
    "This requires a function (`highnum2`) to be called inside another function (`highnum3`). \n",
    "\n",
    "Let's try this!"
   ]
  },
  {
   "cell_type": "code",
   "execution_count": 33,
   "metadata": {},
   "outputs": [],
   "source": [
    "def highnum2 (number1, number2):\n",
    "    \"This takes 2 numbers and returns the highest of the two\" #docstring\n",
    "    if (number1 > number2): \n",
    "        return number1 \n",
    "    elif (number2 > number1): \n",
    "        return number2 \n",
    "    else:\n",
    "        return"
   ]
  },
  {
   "cell_type": "code",
   "execution_count": 104,
   "metadata": {},
   "outputs": [
    {
     "data": {
      "text/plain": [
       "4"
      ]
     },
     "execution_count": 104,
     "metadata": {},
     "output_type": "execute_result"
    }
   ],
   "source": [
    "highnum2 (2 ,4)"
   ]
  },
  {
   "cell_type": "code",
   "execution_count": 34,
   "metadata": {
    "collapsed": true
   },
   "outputs": [],
   "source": [
    "def highnum3 (number1, number2, number3):\n",
    "    \"This takes 3 numbers and returns the highst of the three\" #docstring\n",
    "    if (highnum2 (number1, number2) > number3):\n",
    "        return highnum2 (number1, number2)\n",
    "    else:\n",
    "        return number3 #if conditions 1 is not fulfilled, number 3 is returned as the highest number"
   ]
  },
  {
   "cell_type": "code",
   "execution_count": 106,
   "metadata": {},
   "outputs": [
    {
     "data": {
      "text/plain": [
       "6"
      ]
     },
     "execution_count": 106,
     "metadata": {},
     "output_type": "execute_result"
    }
   ],
   "source": [
    "highnum3 (3, 5, 6)"
   ]
  },
  {
   "cell_type": "markdown",
   "metadata": {},
   "source": [
    "The solution with `highnum2` and `highnum3` is not necessarily shorter than the solution with the function `maxnum2`, but it is arguably more flexible. And it shows that it is possible to call a function inside another function. "
   ]
  }
 ],
 "metadata": {
  "kernelspec": {
   "display_name": "Python 3",
   "language": "python",
   "name": "python3"
  },
  "language_info": {
   "codemirror_mode": {
    "name": "ipython",
    "version": 3
   },
   "file_extension": ".py",
   "mimetype": "text/x-python",
   "name": "python",
   "nbconvert_exporter": "python",
   "pygments_lexer": "ipython3",
   "version": "3.6.3"
  }
 },
 "nbformat": 4,
 "nbformat_minor": 2
}
