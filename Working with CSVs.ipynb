{
 "cells": [
  {
   "cell_type": "markdown",
   "metadata": {},
   "source": [
    "## Importing CSVs\n",
    "\n"
   ]
  },
  {
   "cell_type": "markdown",
   "metadata": {},
   "source": [
    "First, let's import two csv files that I've generated. They contain one column with the same header, and several other columns with different headers. \n",
    "\n",
    "This will import the csv and print out each row as a list."
   ]
  },
  {
   "cell_type": "code",
   "execution_count": 53,
   "metadata": {},
   "outputs": [
    {
     "name": "stdout",
     "output_type": "stream",
     "text": [
      "['Food', 'Amount', 'Expiration']\n",
      "['Apples', '4', '04-Jun']\n",
      "['Bananas', '2', '06-Jun']\n",
      "['Noodles', '10', '10-Sep']\n",
      "['Peanuts', '200', '12-Dec']\n",
      "['Sausages', '3', '13-Jun']\n",
      "['Yogurt', '1', '12-Jun']\n",
      "['Pineapples', '2', '03-Jul']\n"
     ]
    }
   ],
   "source": [
    "import csv\n",
    "\n",
    "with open (\"food_amounts.csv\") as csvfile:\n",
    "    readCSV = csv.reader(csvfile, delimiter = \";\")\n",
    "    for row in readCSV:\n",
    "        print (row)"
   ]
  },
  {
   "cell_type": "markdown",
   "metadata": {},
   "source": [
    "What I would like to do is turn these lists into a list of dictionaries, i.e.\n",
    "\n",
    "`list = [{\"Food\": \"Apples\", \"Amount\": 4, \"Expiration\": \"04-Jun\"}, {\"Food\": \"Bananas\", \"Amount\": 2, }]`\n",
    "\n"
   ]
  },
  {
   "cell_type": "markdown",
   "metadata": {},
   "source": [
    "To achieve this, I start by turning these lists into one big list. This can easily be done with **`.append()`**. "
   ]
  },
  {
   "cell_type": "code",
   "execution_count": 2,
   "metadata": {},
   "outputs": [
    {
     "name": "stdout",
     "output_type": "stream",
     "text": [
      "[['Food', 'Amount', 'Expiration'], ['Apples', '4', '04-Jun'], ['Bananas', '2', '06-Jun'], ['Noodles', '10', '10-Sep'], ['Peanuts', '200', '12-Dec'], ['Sausages', '3', '13-Jun'], ['Yogurt', '1', '12-Jun'], ['Pineapples', '2', '03-Jul']]\n"
     ]
    }
   ],
   "source": [
    "csvList = []\n",
    "with open (\"food_amounts.csv\") as csvfile:\n",
    "    readCSV = csv.reader(csvfile, delimiter = \";\")\n",
    "    for row in readCSV:\n",
    "        csvList.append(row)\n",
    "print (csvList)\n",
    "        "
   ]
  },
  {
   "cell_type": "code",
   "execution_count": 3,
   "metadata": {},
   "outputs": [
    {
     "data": {
      "text/plain": [
       "list"
      ]
     },
     "execution_count": 3,
     "metadata": {},
     "output_type": "execute_result"
    }
   ],
   "source": [
    "type (csvList)"
   ]
  },
  {
   "cell_type": "markdown",
   "metadata": {},
   "source": [
    "Now I want to turn this list of lists into a list of dictionaries. To do that I have to assign certain list items as keys and other list items as values. \n",
    "\n",
    "The format to do this is the following:\n",
    "\n",
    "**`dictionary [key] = \"value\"`**\n",
    "\n",
    "To point to a specific item in the list, use the format `list [x] [y]`, where `x` is a list in the list, and `y` is an item in this list, e.g. `[0][0]` would be the first item in the first list, i.e. `\"Food\"`. "
   ]
  },
  {
   "cell_type": "code",
   "execution_count": 4,
   "metadata": {},
   "outputs": [
    {
     "name": "stdout",
     "output_type": "stream",
     "text": [
      "{'Food': 'Apples'}\n"
     ]
    }
   ],
   "source": [
    "csvDict = {}\n",
    "csvDict [csvList[0][0]] = csvList[1][0] \n",
    "print (csvDict)"
   ]
  },
  {
   "cell_type": "markdown",
   "metadata": {},
   "source": [
    "This looks good. The first entry in my dictionary has the key `\"Food\"` and the value `\"Apples\"`. \n",
    "\n",
    "Now I want to loop over the whole list of lists to add it to this dictionary as I did with `\"Food\"` and `\"Apples\"`. To do this, it's easier to have two separate lists, one that contains only the keys and one that contains only the values. "
   ]
  },
  {
   "cell_type": "code",
   "execution_count": 5,
   "metadata": {},
   "outputs": [
    {
     "name": "stdout",
     "output_type": "stream",
     "text": [
      "['Food', 'Amount', 'Expiration']\n"
     ]
    }
   ],
   "source": [
    "keysList = csvList [0] [:]\n",
    "print (keysList)"
   ]
  },
  {
   "cell_type": "code",
   "execution_count": 9,
   "metadata": {},
   "outputs": [
    {
     "name": "stdout",
     "output_type": "stream",
     "text": [
      "[['Apples', '4', '04-Jun'], ['Bananas', '2', '06-Jun'], ['Noodles', '10', '10-Sep'], ['Peanuts', '200', '12-Dec'], ['Sausages', '3', '13-Jun'], ['Yogurt', '1', '12-Jun'], ['Pineapples', '2', '03-Jul']]\n"
     ]
    }
   ],
   "source": [
    "valuesList = csvList [1:][:]\n",
    "print (valuesList)"
   ]
  },
  {
   "cell_type": "markdown",
   "metadata": {},
   "source": [
    "I will assign values to keys in the same way as I did above, i.e. \n",
    "\n",
    "`dictionary [key] = \"value\"`\n",
    "\n",
    "But now I want to loop over each item in the `valuesList` list. The first item in mey `keysList` should be the key for all first items in each list in `valuesList`, the second item in `keysList` should be the key for all the second items in each list in `valuesList` and so on. \n",
    "\n",
    "I first create an empty dictionary and then use `for` loops to fill it with the right items. In these `for` loops I will call each sublist `foodInformation`. `foodInformation` consists of three items: Food, Amount and Expiration."
   ]
  },
  {
   "cell_type": "code",
   "execution_count": 16,
   "metadata": {},
   "outputs": [
    {
     "name": "stdout",
     "output_type": "stream",
     "text": [
      "{'Food': 'Apples'}\n",
      "{'Food': 'Bananas'}\n",
      "{'Food': 'Noodles'}\n",
      "{'Food': 'Peanuts'}\n",
      "{'Food': 'Sausages'}\n",
      "{'Food': 'Yogurt'}\n",
      "{'Food': 'Pineapples'}\n",
      "{'Food': 'Pineapples', 'Amount': '4'}\n",
      "{'Food': 'Pineapples', 'Amount': '2'}\n",
      "{'Food': 'Pineapples', 'Amount': '10'}\n",
      "{'Food': 'Pineapples', 'Amount': '200'}\n",
      "{'Food': 'Pineapples', 'Amount': '3'}\n",
      "{'Food': 'Pineapples', 'Amount': '1'}\n",
      "{'Food': 'Pineapples', 'Amount': '2'}\n",
      "{'Food': 'Pineapples', 'Amount': '2', 'Expiration': '04-Jun'}\n",
      "{'Food': 'Pineapples', 'Amount': '2', 'Expiration': '06-Jun'}\n",
      "{'Food': 'Pineapples', 'Amount': '2', 'Expiration': '10-Sep'}\n",
      "{'Food': 'Pineapples', 'Amount': '2', 'Expiration': '12-Dec'}\n",
      "{'Food': 'Pineapples', 'Amount': '2', 'Expiration': '13-Jun'}\n",
      "{'Food': 'Pineapples', 'Amount': '2', 'Expiration': '12-Jun'}\n",
      "{'Food': 'Pineapples', 'Amount': '2', 'Expiration': '03-Jul'}\n"
     ]
    }
   ],
   "source": [
    "newDict = {}\n",
    "\n",
    "\n",
    "for foodInformation in valuesList:\n",
    "    newDict [keysList [0]] = foodInformation [0] #key: Food\n",
    "    print (newDict)\n",
    "    \n",
    "for foodInformation in valuesList:\n",
    "    newDict [keysList [1]] = foodInformation [1] #key: Amount\n",
    "    print (newDict)\n",
    "\n",
    "for foodInformation in valuesList:\n",
    "    newDict [keysList [2]] = foodInformation [2] #key: Expiration\n",
    "    print (newDict)\n",
    "   \n",
    "\n",
    "\n"
   ]
  },
  {
   "cell_type": "markdown",
   "metadata": {},
   "source": [
    "This could be written shorter if I don't make three separate `for` loops but add everything to just one single `for` loop."
   ]
  },
  {
   "cell_type": "code",
   "execution_count": 22,
   "metadata": {},
   "outputs": [
    {
     "name": "stdout",
     "output_type": "stream",
     "text": [
      "{'Food': 'Apples', 'Amount': '4', 'Expiration': '04-Jun'}\n",
      "{'Food': 'Bananas', 'Amount': '2', 'Expiration': '06-Jun'}\n",
      "{'Food': 'Noodles', 'Amount': '10', 'Expiration': '10-Sep'}\n",
      "{'Food': 'Peanuts', 'Amount': '200', 'Expiration': '12-Dec'}\n",
      "{'Food': 'Sausages', 'Amount': '3', 'Expiration': '13-Jun'}\n",
      "{'Food': 'Yogurt', 'Amount': '1', 'Expiration': '12-Jun'}\n",
      "{'Food': 'Pineapples', 'Amount': '2', 'Expiration': '03-Jul'}\n"
     ]
    }
   ],
   "source": [
    "newDict = {}\n",
    "\n",
    "for foodInformation in valuesList:\n",
    "    newDict [keysList [0]] = foodInformation [0]\n",
    "    newDict [keysList [1]] = foodInformation [1]\n",
    "    newDict [keysList [2]] = foodInformation [2]\n",
    "    print (newDict)\n"
   ]
  },
  {
   "cell_type": "markdown",
   "metadata": {},
   "source": [
    "Even shorter would be to also loop over the position in `foodInformation`. This can be done by adding another `for` loop into the `for` loop and using the length of `foodInformation`. "
   ]
  },
  {
   "cell_type": "code",
   "execution_count": 28,
   "metadata": {},
   "outputs": [
    {
     "name": "stdout",
     "output_type": "stream",
     "text": [
      "3\n"
     ]
    }
   ],
   "source": [
    "print (len(foodInformation))"
   ]
  },
  {
   "cell_type": "code",
   "execution_count": 29,
   "metadata": {},
   "outputs": [
    {
     "name": "stdout",
     "output_type": "stream",
     "text": [
      "{'Food': 'Apples', 'Amount': '4', 'Expiration': '04-Jun'}\n",
      "{'Food': 'Bananas', 'Amount': '2', 'Expiration': '06-Jun'}\n",
      "{'Food': 'Noodles', 'Amount': '10', 'Expiration': '10-Sep'}\n",
      "{'Food': 'Peanuts', 'Amount': '200', 'Expiration': '12-Dec'}\n",
      "{'Food': 'Sausages', 'Amount': '3', 'Expiration': '13-Jun'}\n",
      "{'Food': 'Yogurt', 'Amount': '1', 'Expiration': '12-Jun'}\n",
      "{'Food': 'Pineapples', 'Amount': '2', 'Expiration': '03-Jul'}\n"
     ]
    }
   ],
   "source": [
    "newDict = {}\n",
    "\n",
    "for foodInformation in valuesList:\n",
    "    for i in range (0, len(foodInformation)):\n",
    "        newDict [keysList [i]] = foodInformation [i]\n",
    "    print (newDict)"
   ]
  },
  {
   "cell_type": "markdown",
   "metadata": {},
   "source": [
    "At the moment the new key:value pairs are not added to `newDict` but instead overwrite the previous key:value pair. I will all add them to a new list calles `newList` by using the `.append()` function for lists. "
   ]
  },
  {
   "cell_type": "code",
   "execution_count": 51,
   "metadata": {},
   "outputs": [
    {
     "name": "stdout",
     "output_type": "stream",
     "text": [
      "[{'Food': 'Apples', 'Amount': '4', 'Expiration': '04-Jun'}, {'Food': 'Bananas', 'Amount': '2', 'Expiration': '06-Jun'}, {'Food': 'Noodles', 'Amount': '10', 'Expiration': '10-Sep'}, {'Food': 'Peanuts', 'Amount': '200', 'Expiration': '12-Dec'}, {'Food': 'Sausages', 'Amount': '3', 'Expiration': '13-Jun'}, {'Food': 'Yogurt', 'Amount': '1', 'Expiration': '12-Jun'}, {'Food': 'Pineapples', 'Amount': '2', 'Expiration': '03-Jul'}]\n"
     ]
    }
   ],
   "source": [
    "newList = [] #create an empty list\n",
    "\n",
    "for foodInformation in valuesList:\n",
    "    newDict = {} #create an empty dictionary\n",
    "    for i in range (0, len(foodInformation)):\n",
    "        newDict [keysList [i]] = foodInformation [i]\n",
    "    newList.append(newDict) #add the new entry of newDict to the list newList\n",
    "    \n",
    "print (newList)"
   ]
  },
  {
   "cell_type": "markdown",
   "metadata": {},
   "source": [
    "So now I have a list containing a dictionary with the `foodInformation`."
   ]
  },
  {
   "cell_type": "markdown",
   "metadata": {},
   "source": [
    "Since I want to do this with at least another csv file, I will write the above code as a function that creates a list containing a dictionary from a csv file. "
   ]
  },
  {
   "cell_type": "code",
   "execution_count": 90,
   "metadata": {},
   "outputs": [],
   "source": [
    "def csvToListDic (inputCsv):\n",
    "    \"Converts a csv into a list of dictionaries.\" #docstring\n",
    "    \n",
    "    import csv #import the csv package\n",
    "\n",
    "    #create an empty list that will contain the data from the csv\n",
    "    csvList = [] \n",
    "    \n",
    "    #read in the csv file and convert each row into a list\n",
    "    with open (inputCsv) as csvfile:\n",
    "        readCSV = csv.reader(csvfile, delimiter = \";\")\n",
    "        for row in readCSV:\n",
    "            csvList.append(row)\n",
    "    \n",
    "    #make a new list containing the keys (1st row = keys)\n",
    "    keysList = csvList [0][:]\n",
    "    \n",
    "    #make a new list containing the values (all other rows)\n",
    "    valuesList = csvList [1:][:]\n",
    "\n",
    "    #create an empty list that will contain the dictionary\n",
    "    newList = [] \n",
    "\n",
    "    for foodInformation in valuesList:\n",
    "        newDict = {} #create an empty dictionary\n",
    "        for i in range (0, len(foodInformation)):\n",
    "            newDict [keysList [i]] = foodInformation [i]\n",
    "            \n",
    "        #add the new entry of newDict to the list newList\n",
    "        newList.append(newDict)\n",
    "        \n",
    "    #return the list newList\n",
    "    return newList "
   ]
  },
  {
   "cell_type": "code",
   "execution_count": 98,
   "metadata": {},
   "outputs": [
    {
     "name": "stdout",
     "output_type": "stream",
     "text": [
      "[{'Food': 'Apples', 'Amount': '4', 'Expiration': '04-Jun'}, {'Food': 'Bananas', 'Amount': '2', 'Expiration': '06-Jun'}, {'Food': 'Noodles', 'Amount': '10', 'Expiration': '10-Sep'}, {'Food': 'Peanuts', 'Amount': '200', 'Expiration': '12-Dec'}, {'Food': 'Sausages', 'Amount': '3', 'Expiration': '13-Jun'}, {'Food': 'Yogurt', 'Amount': '1', 'Expiration': '12-Jun'}, {'Food': 'Pineapples', 'Amount': '2', 'Expiration': '03-Jul'}]\n"
     ]
    }
   ],
   "source": [
    "amounts = csvToListDic (\"food_amounts.csv\")\n",
    "print (amounts)"
   ]
  },
  {
   "cell_type": "code",
   "execution_count": 99,
   "metadata": {},
   "outputs": [
    {
     "name": "stdout",
     "output_type": "stream",
     "text": [
      "[{'Food': 'Bananas', 'Price': '12', 'Bought': 'TRUE'}, {'Food': 'Pineapples', 'Price': '87', 'Bought': 'FALSE'}, {'Food': 'Cheese', 'Price': '50', 'Bought': 'FALSE'}, {'Food': 'Yogurt', 'Price': '10', 'Bought': 'TRUE'}, {'Food': 'Toast', 'Price': '23', 'Bought': 'TRUE'}, {'Food': 'Sausages', 'Price': '42', 'Bought': 'TRUE'}, {'Food': 'Tomatoes', 'Price': '11', 'Bought': 'FALSE'}]\n"
     ]
    }
   ],
   "source": [
    "prices = csvToListDic (\"food_prices.csv\")\n",
    "print (prices)"
   ]
  },
  {
   "cell_type": "markdown",
   "metadata": {},
   "source": [
    "Now finally I would like to merge these two lists of dictionaries, so that I get a new list containing dictionaries with keys and values from both `amounts` and `prices`. "
   ]
  },
  {
   "cell_type": "code",
   "execution_count": 101,
   "metadata": {},
   "outputs": [
    {
     "name": "stdout",
     "output_type": "stream",
     "text": [
      "dict_values([{'Food': 'Apples', 'Amount': '4', 'Expiration': '04-Jun'}, {'Food': 'Bananas', 'Price': '12', 'Bought': 'TRUE'}, {'Food': 'Noodles', 'Amount': '10', 'Expiration': '10-Sep'}, {'Food': 'Peanuts', 'Amount': '200', 'Expiration': '12-Dec'}, {'Food': 'Sausages', 'Price': '42', 'Bought': 'TRUE'}, {'Food': 'Yogurt', 'Price': '10', 'Bought': 'TRUE'}, {'Food': 'Pineapples', 'Price': '87', 'Bought': 'FALSE'}, {'Food': 'Cheese', 'Price': '50', 'Bought': 'FALSE'}, {'Food': 'Toast', 'Price': '23', 'Bought': 'TRUE'}, {'Food': 'Tomatoes', 'Price': '11', 'Bought': 'FALSE'}])\n"
     ]
    }
   ],
   "source": [
    "mergedDic1 = {x[\"Food\"]:x for x in amounts + prices}.values()\n",
    "print (results)"
   ]
  },
  {
   "cell_type": "markdown",
   "metadata": {},
   "source": [
    "So this solution didn't work as I wanted. It didn't *merge* the entries that have values in both lists, but instead deleted/overwrote them (e.g. the `\"Bananas\"` and `\"Pineapple\"` entries are now only present from the `\"prices` list). Dict2 overwrote Dict1. \n",
    "\n",
    "\n",
    "\n",
    "Here is another solution that defines a function `merge_lists` with the attributes `list1`, `list2` and `dictKey`. \n",
    "\n",
    "The **`update()`** method updates a dictionary with the elements from another dictionary. It adds elements to the dictionary if the key is not in the dictionary. If the key is in the dictionary, it updates the key with the new value. "
   ]
  },
  {
   "cell_type": "code",
   "execution_count": 158,
   "metadata": {},
   "outputs": [],
   "source": [
    "def merge_lists (list1, list2, dictKey):\n",
    "    merged = {}\n",
    "    for item in list1 + list2: #for each dictionary in both lists\n",
    "        if item[dictKey] in merged: #if dictionary with specified key is already in merged\n",
    "            merged [item[dictKey]].update(item)\n",
    "            print (item)\n",
    "        else:\n",
    "            merged[item[dictKey]] = item\n",
    "    return [val for (_, val) in merged.items()]"
   ]
  },
  {
   "cell_type": "code",
   "execution_count": 157,
   "metadata": {},
   "outputs": [
    {
     "name": "stdout",
     "output_type": "stream",
     "text": [
      "{'Food': 'Bananas', 'Price': '12', 'Bought': 'TRUE'}\n",
      "{'Food': 'Pineapples', 'Price': '87', 'Bought': 'FALSE'}\n",
      "{'Food': 'Yogurt', 'Price': '10', 'Bought': 'TRUE'}\n",
      "{'Food': 'Sausages', 'Price': '42', 'Bought': 'TRUE'}\n",
      "[{'Food': 'Apples', 'Amount': '4', 'Expiration': '04-Jun'}, {'Food': 'Bananas', 'Amount': '2', 'Expiration': '06-Jun', 'Price': '12', 'Bought': 'TRUE'}, {'Food': 'Noodles', 'Amount': '10', 'Expiration': '10-Sep'}, {'Food': 'Peanuts', 'Amount': '200', 'Expiration': '12-Dec'}, {'Food': 'Sausages', 'Amount': '3', 'Expiration': '13-Jun', 'Price': '42', 'Bought': 'TRUE'}, {'Food': 'Yogurt', 'Amount': '1', 'Expiration': '12-Jun', 'Price': '10', 'Bought': 'TRUE'}, {'Food': 'Pineapples', 'Amount': '2', 'Expiration': '03-Jul', 'Price': '87', 'Bought': 'FALSE'}, {'Food': 'Cheese', 'Price': '50', 'Bought': 'FALSE'}, {'Food': 'Toast', 'Price': '23', 'Bought': 'TRUE'}, {'Food': 'Tomatoes', 'Price': '11', 'Bought': 'FALSE'}]\n"
     ]
    }
   ],
   "source": [
    "print (merge_lists (amounts, prices, \"Food\"))\n"
   ]
  },
  {
   "cell_type": "markdown",
   "metadata": {},
   "source": [
    "For now I don't quite understand how the `merge_lists` function works. What exactly are the if and else conditions doing? Why is there a `+` between list1 and list2? If I exchange it for an `and` I get a different output, and if I change it for an `or` I get a different output. \n",
    "I also don't understand the `return` statement. In the original Stackoverflow answer, the `return` statement is simply `merged.values()`, but this results in a slightly different output than the `[val for (_, val) in merged.items()]` that I got from a blog pots. \n"
   ]
  },
  {
   "cell_type": "code",
   "execution_count": null,
   "metadata": {
    "collapsed": true
   },
   "outputs": [],
   "source": []
  }
 ],
 "metadata": {
  "kernelspec": {
   "display_name": "Python 3",
   "language": "python",
   "name": "python3"
  },
  "language_info": {
   "codemirror_mode": {
    "name": "ipython",
    "version": 3
   },
   "file_extension": ".py",
   "mimetype": "text/x-python",
   "name": "python",
   "nbconvert_exporter": "python",
   "pygments_lexer": "ipython3",
   "version": "3.6.3"
  }
 },
 "nbformat": 4,
 "nbformat_minor": 2
}
