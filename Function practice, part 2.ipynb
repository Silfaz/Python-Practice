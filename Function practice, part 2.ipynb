{
 "cells": [
  {
   "cell_type": "markdown",
   "metadata": {
    "collapsed": true
   },
   "source": [
    "# FUNCTIONS pt. 2: \n",
    "## Simple bioinformatics exercises"
   ]
  },
  {
   "cell_type": "markdown",
   "metadata": {},
   "source": [
    "Let's continue with some exercises and explanations on how to use functions.\n",
    "\n",
    "_(This set of exerciss was inspired by the book \"Bioinformatics Programming Using Python\" by Mitchell L. Model, O'Reilly.)_\n",
    "\n",
    "We will write functions that:\n",
    "\n",
    "1) check if a certain string is contained in another string: `.find()`\n",
    "\n",
    "2) verify that a string only contains certain characters: `.upper()`, `.count()`\n",
    "\n",
    "3) calculate the GC content of a DNA sequence: `len()`\n",
    "\n",
    "4) include an assertion statement: `assert`\n",
    "\n",
    "5) have default parameter values\n",
    "\n",
    "6) replace characters randomly using the `randint()` function from the `random` module"
   ]
  },
  {
   "cell_type": "markdown",
   "metadata": {},
   "source": [
    "### 1) Find the DNA binding site in a sequence\n",
    "Here is a simple function on how to find a binding site in a DNA sequence. For this, I'm going to use the **`.find()`** method, which tells me the position of the first occurrence of my query. "
   ]
  },
  {
   "cell_type": "code",
   "execution_count": 81,
   "metadata": {},
   "outputs": [
    {
     "data": {
      "text/plain": [
       "9"
      ]
     },
     "execution_count": 81,
     "metadata": {},
     "output_type": "execute_result"
    }
   ],
   "source": [
    "def recognition_site (base_seq, recognition_seq): \n",
    "    \"\"\"This function takes 2 strings as arguments and returns the position \n",
    "    of the second string in the first string (or -1 if it's not present)\"\"\"\n",
    "    \n",
    "    return base_seq.find(recognition_seq)\n",
    "\n",
    "seq1 = \"ACTGTAGTACCATAGATCCATATGTAGTCCCATAGTCCCAGAGCACCAGTC\"\n",
    "seq2 = \"CCATA\"\n",
    "\n",
    "recognition_site (seq1, seq2) #function call, providing two parameters"
   ]
  },
  {
   "cell_type": "markdown",
   "metadata": {},
   "source": [
    "### 2) Check if DNA sequence contains only A, C, T, G\n",
    "DNA sequences can only contain 4 characters - A, C, T, G - and they should all be in uppercase. To make sure that both of these things are true, I will check for that with a function. I will use **`.upper()`** to convert any lowercase letters in my sequence into uppercase. Then I will check if the length of the sequence (**`len()`**) is the same as the sum of all As, Cs, Ts and Gs in the sequence, which I count with the **`.count()`** method. The function returns `True` if only As, Cs, Ts and Gs are in the sequence, and `False` if any other characters (including white spaces) are detected."
   ]
  },
  {
   "cell_type": "code",
   "execution_count": 82,
   "metadata": {},
   "outputs": [
    {
     "name": "stdout",
     "output_type": "stream",
     "text": [
      "True\n",
      "False\n"
     ]
    }
   ],
   "source": [
    "def validate_seq (base_seq):\n",
    "    '''Returns True if the sequence contains only A, G, T, C, and\n",
    "    False if otherwise.'''\n",
    "    base_seq = base_seq.upper() #convert the string into all uppercase\n",
    "    return len(base_seq) == (base_seq.count(\"A\") + base_seq.count(\"C\") \n",
    "                             + base_seq.count(\"T\") + base_seq.count(\"G\"))\n",
    "\n",
    "seq3 = \"aatagtgatcccacacgtgat\"\n",
    "seq4 = \"abcdkjsdfiosdfjsdklfj\"\n",
    "\n",
    "print (validate_seq(seq3))\n",
    "print (validate_seq(seq4))"
   ]
  },
  {
   "cell_type": "markdown",
   "metadata": {},
   "source": [
    "### 3) Calculate the GC content of a DNA sequence\n",
    "\n",
    "How would I go about calculating the percentage of Gs and Cs in a given DNA sequence? Let's go through it step by step:\n",
    "\n",
    "1) Count the Gs and Cs occurring in the DNA sequence and add them up.\n",
    "\n",
    "2) Calculate the ratio of GC.\n",
    "\n",
    "3) Return the GC content as a percentage. "
   ]
  },
  {
   "cell_type": "code",
   "execution_count": 116,
   "metadata": {},
   "outputs": [
    {
     "data": {
      "text/plain": [
       "37"
      ]
     },
     "execution_count": 116,
     "metadata": {},
     "output_type": "execute_result"
    }
   ],
   "source": [
    "seq5 = \"ACCCATTGATTGATACAGATGAACACACAGATAGA\"\n",
    "\n",
    "def GC_content (base_seq):\n",
    "    \"Returns the GC content (in %) of a given DNA sequence\"\n",
    "    GC_count = base_seq.count (\"G\") + base_seq.count (\"C\") #1)\n",
    "    GC_ratio = GC_count / len(base_seq) #2)\n",
    "    GC_percent = int (GC_ratio *100) #3) \n",
    "    return GC_percent\n",
    "    \n",
    "    \n",
    "GC_content(seq5)    \n",
    " \n",
    "               "
   ]
  },
  {
   "cell_type": "markdown",
   "metadata": {},
   "source": [
    "Notice that to get nice round numbers, I convert GC_percent into an integer. To print everything in a string, GC_percent has to be converted into a string."
   ]
  },
  {
   "cell_type": "markdown",
   "metadata": {},
   "source": [
    "## 4) Including an assertion statement\n",
    "\n",
    "This tests whether an expression is `True` or `False` and causes an error if it is `False`. This way you can avoid to continue with the output of a function that is the result of an invalid argument. E.g. in the GC content example above, I didn't check if the sequence consisted only of As, Gs, Ts and Cs, and so the function would work perfectly fine if `base_seq` is `\"TXTWECGATJH\"`. \n",
    "\n",
    "So let's improve `GC_content` by ensuring that its argument is a valid DNA sequence. Conviently, we already wrote a suitable function earlier, called `validate_seq`. So I will just call `validate_seq` inside the `GC_content` function."
   ]
  },
  {
   "cell_type": "code",
   "execution_count": 84,
   "metadata": {},
   "outputs": [
    {
     "name": "stdout",
     "output_type": "stream",
     "text": [
      "The GC content is 41 %.\n"
     ]
    }
   ],
   "source": [
    "seq5 = \"ACCCaattggTTGATaCAGATGAACACCcAGATAgA\"\n",
    "\n",
    "def improved_GC_content (base_seq):\n",
    "    \"Returns the GC content (in %) of a given DNA sequence\"\n",
    "    #Returns an error if other characters than ATCG appear in the sequence\n",
    "    assert validate_seq(base_seq), \"argument has invalid characters\"\n",
    "    #Make sure that all characters are in uppercase\n",
    "    base_seq = base_seq.upper()\n",
    "    GC_count = base_seq.count (\"G\") + base_seq.count (\"C\") #1)\n",
    "    GC_ratio = GC_count / len(base_seq) #2)\n",
    "    GC_percent = int (GC_ratio *100) #3) \n",
    "    return print (\"The GC content is \" + str (GC_percent) + (\" %.\"))\n",
    "\n",
    "improved_GC_content (seq5)  "
   ]
  },
  {
   "cell_type": "markdown",
   "metadata": {},
   "source": [
    "**`assert`** statements can be conveniently used to test if functions work, by providing an input with a known output. "
   ]
  },
  {
   "cell_type": "code",
   "execution_count": 123,
   "metadata": {
    "collapsed": true
   },
   "outputs": [],
   "source": [
    "def test():\n",
    "    assert validate_seq (\"actg\") #True\n",
    "    assert not validate_seq (\"xhjk\") #True\n",
    "    \n",
    "    assert 50 == GC_content (\"AACC\") #True\n",
    "    assert GC_content (\"CCGG\") == 100 #True\n",
    "    assert GC_content (\"CCGG\") != 50 #True\n",
    "    \n",
    "  \n",
    "    return print (\"All tests passed\")\n",
    "    "
   ]
  },
  {
   "cell_type": "code",
   "execution_count": 124,
   "metadata": {},
   "outputs": [
    {
     "name": "stdout",
     "output_type": "stream",
     "text": [
      "All tests passed\n"
     ]
    }
   ],
   "source": [
    "test()"
   ]
  },
  {
   "cell_type": "markdown",
   "metadata": {
    "collapsed": true
   },
   "source": [
    "## 5) Default parameter values\n",
    "\n",
    "In many functions, one parameter will often be the same value, but not always. You'd like to define a default value, that is taken when no explicit value is mentioned when the function is called. However, IF a different value is mentioned in the function call, that one should be used instead of the default value. \n",
    "\n",
    "For example, in the abovementioned `validate_seq` function, I would like to occasionally also be able to check for RNA sequences. RNA contains the bases A, C, G and U, whereas DNA contains A, C, G and T. I will do this with a **flag** and call it **`RNAflag`**. I'll give it the default value `False`, so I don't have to specify the parameter when I deal with DNA sequences, and only when I have an RNA sequence, I will provide the additional parameter `True` in the function call.\n",
    "\n",
    "The flag has to be included not only in the function parameters, but also of course as an expression in the function itself, e.g. as an IF statement. "
   ]
  },
  {
   "cell_type": "code",
   "execution_count": 9,
   "metadata": {},
   "outputs": [
    {
     "name": "stdout",
     "output_type": "stream",
     "text": [
      "True\n",
      "False\n",
      "True\n"
     ]
    }
   ],
   "source": [
    "def validate_DNA_or_RNA_seq (base_seq, RNAflag=False):\n",
    "    '''This function returns True if the string base_seq contains only \n",
    "    upper- or lowercase T (or U, if RNAflag), A, G and C characters.'''\n",
    "    base_seq = base_seq.upper()\n",
    "    return len(base_seq) == (base_seq.count(\"A\") \n",
    "                             + base_seq.count(\"C\") \n",
    "                             + base_seq.count(\"U\" if RNAflag else \"T\") \n",
    "                             + base_seq.count(\"G\"))\n",
    "\n",
    "seq3 = \"aatagtgattcccacacgtgat\" #DNA sequence\n",
    "seq4 = \"abcdkjsdfiosdfjsdklfj\" #gibberish sequence\n",
    "seq5 = \"aucuaucgugucuacua\" #RNA sequence\n",
    "\n",
    "print (validate_DNA_or_RNA_seq(seq3))\n",
    "print (validate_DNA_or_RNA_seq(seq4))\n",
    "print (validate_DNA_or_RNA_seq(seq5, True)) #Here I specify RNAflag = True"
   ]
  },
  {
   "cell_type": "markdown",
   "metadata": {},
   "source": [
    "In the parameter list when you define a function, as well as in the argument list when you call a function, all required arguments have to go before the arguments with optional values (i.e. the ones that have default values defined)."
   ]
  },
  {
   "cell_type": "markdown",
   "metadata": {},
   "source": [
    "## 6) Replace characters in a string randomly\n",
    "\n",
    "This function is a little bit more complex, so we'll go through it step by step.\n",
    "\n",
    "For this function, we first need to import the **`randint`** function from the **`random`** module to be able to generate random numbers. To import it, just type\n",
    "\n",
    "**`from random import randint`**\n",
    "\n",
    "Now we can use `randint()` just like any other function in Python.\n",
    "\n",
    "So what do we want to do here? We would like to generate a function that takes an input DNA sequence (consisting of the characters A, T, G and C) and replaces a character at a random position with another random character (from a pool of A, T, G and C). However, we only want to exchange it for a character that has not previously been in that position (so e.g. no A for an A). \n",
    "\n",
    "Let's go through the steps to make this happen:\n",
    "\n",
    "1) Read in the DNA sequence (`base_seq`*). This is done by calling the function.\n",
    "\n",
    "2) Define a random position (`position`) in the DNA sequence, using the **`randint()`** function, that should be subject to exchange. The range for the random number is 0 to the length of the input sequence, minus 1.\n",
    "\n",
    "3) Define the character (`base`) that corresponds to the randomly chosen position in the DNA sequence `base_seq`. \n",
    "\n",
    "4) Define the pool of available characters that can be used for replacing (`ex_bases`).\n",
    "\n",
    "5) From this pool of exchange characters, delete the character corresponding to `base`, so it is no longer available. We can do that by replacing (**`.replace()`**) it with a whitespace (`\"\"`). Call this new pool of reduced characters `red_bases`. \n",
    "\n",
    "6) Randomly choose a new character (`newbase`) from the now reduced pool of exchange characters `ex_bases`. The range for randint should be 0 to 2, since `ex_bases` only contains 3 characters.\n",
    "\n",
    "7) Return the new sequence. Do this by adding the first part of `base_seq` up to the exchange position, to the new character `newbase`, and then to the rest of `base_seq` from the exchange position to the end. \n",
    "\n",
    "During running and testing the function we can check the values of the variables by including **`print()`** statements. This helps in figuring out what's going on (or where things might be going wrong). \n"
   ]
  },
  {
   "cell_type": "code",
   "execution_count": 74,
   "metadata": {},
   "outputs": [
    {
     "name": "stdout",
     "output_type": "stream",
     "text": [
      "Original sequence: GGTTAACC\n",
      "Position of exchange: 1\n",
      "Base to be exchanged: G\n",
      "Pool of available exchange characters: ATC\n",
      "Chosen new character: A\n"
     ]
    },
    {
     "data": {
      "text/plain": [
       "'GATTAACC'"
      ]
     },
     "execution_count": 74,
     "metadata": {},
     "output_type": "execute_result"
    }
   ],
   "source": [
    "from random import randint\n",
    "\n",
    "def replace_base_randomly (base_seq):\n",
    "    '''Takes a DNA seqence and replaces a base at a randomly chosen position\n",
    "    by a base chosen randomly from the three bases that were not in that position.'''\n",
    "    position = randint (0, len(base_seq)-1) #2) \n",
    "    print (\"Position of exchange: \" + str(position))\n",
    "    base = base_seq[position] #3)\n",
    "    print (\"Base to be exchanged: \" + base)\n",
    "    ex_bases = \"GATC\" #4)\n",
    "    red_bases = ex_bases.replace(base, \"\") #5)\n",
    "    print (\"Pool of available exchange characters: \" + red_bases)\n",
    "    newbase = red_bases[randint(0,2)] #6)\n",
    "    print (\"Chosen new character: \" + newbase)\n",
    "    beginning = base_seq [ : position]\n",
    "    end = base_seq [position+1 :]\n",
    "    return beginning + newbase + end #7)\n",
    "\n",
    "base_seq = \"GGTTAACC\"\n",
    "print (\"Original sequence: \" + base_seq)\n",
    "replace_base_randomly(base_seq) #1)\n",
    "    "
   ]
  },
  {
   "cell_type": "markdown",
   "metadata": {},
   "source": [
    "As always in programming, there are serveral (right) ways to do things. The code that I wrote is very detailed and maybe overly verbose, because I create a new variable for every step in the function. This is not necessary. The general \"rule\" is that if you a value is only used once, it's usually unnecessary to give it its own name. However, especially while I'm still learning to code, I find it helps me a lot in structuring the code in my head. I like to go through all the steps slowing and spell out what happens in each step. Condensing the code will happen over time.\n",
    "\n",
    "But just for the sake of comparison, here is a much shorter version of the function `replace_base_randomly`."
   ]
  },
  {
   "cell_type": "code",
   "execution_count": 80,
   "metadata": {},
   "outputs": [
    {
     "data": {
      "text/plain": [
       "'TGTTAACC'"
      ]
     },
     "execution_count": 80,
     "metadata": {},
     "output_type": "execute_result"
    }
   ],
   "source": [
    "def replace_base_shorter (base_seq):\n",
    "    position = randint (0, len(base_seq) - 1)\n",
    "    return (base_seq[0:position]\n",
    "            + \"TAGC\".replace(base_seq[position], \"\")[randint(0,2)]\n",
    "            + base_seq[position + 1:])\n",
    "\n",
    "base_seq = \"GGTTAACC\"\n",
    "replace_base_shorter(base_seq)"
   ]
  },
  {
   "cell_type": "code",
   "execution_count": null,
   "metadata": {
    "collapsed": true
   },
   "outputs": [],
   "source": []
  }
 ],
 "metadata": {
  "kernelspec": {
   "display_name": "Python 3",
   "language": "python",
   "name": "python3"
  },
  "language_info": {
   "codemirror_mode": {
    "name": "ipython",
    "version": 3
   },
   "file_extension": ".py",
   "mimetype": "text/x-python",
   "name": "python",
   "nbconvert_exporter": "python",
   "pygments_lexer": "ipython3",
   "version": "3.6.3"
  }
 },
 "nbformat": 4,
 "nbformat_minor": 2
}
