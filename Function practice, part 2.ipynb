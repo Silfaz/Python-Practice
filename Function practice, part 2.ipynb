{
 "cells": [
  {
   "cell_type": "markdown",
   "metadata": {
    "collapsed": true
   },
   "source": [
    "# FUNCTIONS pt. 2: \n",
    "## Simple bioinformatics exercises"
   ]
  },
  {
   "cell_type": "markdown",
   "metadata": {},
   "source": [
    "Let's continue with some exercises and explanations on how to use functions.\n",
    "\n",
    "_(This set of exerciss was inspired by the book \"Bioinformatics Programming Using Python\" by Mitchell L. Model, O'Reilly.)_\n",
    "\n",
    "We will write functions that:\n",
    "\n",
    "1) check if a certain string is contained in another string: `.find()`\n",
    "\n",
    "2) verify that a string only contains certain characters: `.upper()`, `.count()`\n",
    "\n",
    "3) calculate the GC content of a DNA sequence: `len()`\n",
    "\n",
    "4) include an assertion statement: `assert`\n",
    "\n",
    "5) have default parameter values"
   ]
  },
  {
   "cell_type": "markdown",
   "metadata": {},
   "source": [
    "### 1) Find the DNA binding site in a sequence\n",
    "Here is a simple function on how to find a binding site in a DNA sequence. For this, I'm going to use the **`.find()`** method, which tells me the position of the first occurrence of my query. "
   ]
  },
  {
   "cell_type": "code",
   "execution_count": 10,
   "metadata": {},
   "outputs": [
    {
     "data": {
      "text/plain": [
       "9"
      ]
     },
     "execution_count": 10,
     "metadata": {},
     "output_type": "execute_result"
    }
   ],
   "source": [
    "def recognition_site (base_seq, recognition_seq): \n",
    "    \"\"\"This function takes 2 strings as arguments and returns the position \n",
    "    of the second string in the first string (or -1 if it's not present)\"\"\"\n",
    "    \n",
    "    return base_seq.find(recognition_seq)\n",
    "\n",
    "seq1 = \"ACTGTAGTACCATAGATCCATATGTAGTCCCATAGTCCCAGAGCACCAGTC\"\n",
    "seq2 = \"CCATA\"\n",
    "\n",
    "recognition_site (seq1, seq2) #function call, providing two parameters"
   ]
  },
  {
   "cell_type": "markdown",
   "metadata": {},
   "source": [
    "### 2) Check if DNA sequence contains only A, C, T, G\n",
    "DNA sequences can only contain 4 characters - A, C, T, G - and they should all be in uppercase. To make sure that both of these things are true, I will check for that with a function. I will use **`.upper()`** to convert any lowercase letters in my sequence into uppercase. Then I will check if the length of the sequence (**`len()`**) is the same as the sum of all As, Cs, Ts and Gs in the sequence, which I count with the **`.count()`** method. The function returns `True` if only As, Cs, Ts and Gs are in the sequence, and `False` if any other characters (including white spaces) are detected."
   ]
  },
  {
   "cell_type": "code",
   "execution_count": 53,
   "metadata": {},
   "outputs": [
    {
     "name": "stdout",
     "output_type": "stream",
     "text": [
      "True\n",
      "False\n"
     ]
    }
   ],
   "source": [
    "def validate_seq (base_seq):\n",
    "    '''Returns True if the sequence contains only A, G, T, C, and\n",
    "    False if otherwise.'''\n",
    "    base_seq = base_seq.upper() #convert the string into all uppercase\n",
    "    return len(base_seq) == (base_seq.count(\"A\") + base_seq.count(\"C\") \n",
    "                             + base_seq.count(\"T\") + base_seq.count(\"G\"))\n",
    "\n",
    "seq3 = \"aatagtgatcccacacgtgat\"\n",
    "seq4 = \"abcdkjsdfiosdfjsdklfj\"\n",
    "\n",
    "print (validate_seq(seq3))\n",
    "print (validate_seq(seq4))"
   ]
  },
  {
   "cell_type": "markdown",
   "metadata": {},
   "source": [
    "### 3) Calculate the GC content of a DNA sequence\n",
    "\n",
    "How would I go about calculating the percentage of Gs and Cs in a given DNA sequence? Let's go through it step by step:\n",
    "\n",
    "1) Count the Gs and Cs occurring in the DNA sequence and add them up.\n",
    "\n",
    "2) Calculate the ratio of GC.\n",
    "\n",
    "3) Return the GC content as a percentage. "
   ]
  },
  {
   "cell_type": "code",
   "execution_count": 54,
   "metadata": {},
   "outputs": [
    {
     "name": "stdout",
     "output_type": "stream",
     "text": [
      "The GC content is 37 %.\n"
     ]
    }
   ],
   "source": [
    "seq5 = \"ACCCATTGATTGATACAGATGAACACACAGATAGA\"\n",
    "\n",
    "def GC_content (base_seq):\n",
    "    \"Returns the GC content (in %) of a given DNA sequence\"\n",
    "    GC_count = base_seq.count (\"G\") + base_seq.count (\"C\") #1)\n",
    "    GC_ratio = GC_count / len(base_seq) #2)\n",
    "    GC_percent = int (GC_ratio *100) #3) \n",
    "    return print (\"The GC content is \" + str (GC_percent) + (\" %.\"))\n",
    "\n",
    "GC_content (seq5)                                    \n",
    "                 "
   ]
  },
  {
   "cell_type": "markdown",
   "metadata": {},
   "source": [
    "Notice that to get nice round numbers, I convert GC_percent into an integer. To print everything in a string, GC_percent has to be converted into a string."
   ]
  },
  {
   "cell_type": "markdown",
   "metadata": {},
   "source": [
    "## 4) Including an assertion statement\n",
    "\n",
    "This tests whether an expression is `True` or `False` and causes an error if it is `False`. This way you can avoid to continue with the output of a function that is the result of an invalid argument. E.g. in the GC content example above, I didn't check if the sequence consisted only of As, Gs, Ts and Cs, and so the function would work perfectly fine if `base_seq` is `\"TXTWECGATJH\"`. \n",
    "\n",
    "So let's improve `GC_content` by ensuring that its argument is a valid DNA sequence. Conviently, we already wrote a suitable function earlier, called `validate_seq`. So I will just call `validate_seq` inside the `GC_content` function."
   ]
  },
  {
   "cell_type": "code",
   "execution_count": 61,
   "metadata": {},
   "outputs": [
    {
     "name": "stdout",
     "output_type": "stream",
     "text": [
      "The GC content is 41 %.\n"
     ]
    }
   ],
   "source": [
    "seq5 = \"ACCCaattggTTGATaCAGATGAACACCcAGATAgA\"\n",
    "\n",
    "def improved_GC_content (base_seq):\n",
    "    \"Returns the GC content (in %) of a given DNA sequence\"\n",
    "    #Returns an error if other characters than ATCG appear in the sequence\n",
    "    assert validate_seq(base_seq), \"argument has invalid characters\"\n",
    "    #Make sure that all characters are in uppercase\n",
    "    base_seq = base_seq.upper()\n",
    "    GC_count = base_seq.count (\"G\") + base_seq.count (\"C\") #1)\n",
    "    GC_ratio = GC_count / len(base_seq) #2)\n",
    "    GC_percent = int (GC_ratio *100) #3) \n",
    "    return print (\"The GC content is \" + str (GC_percent) + (\" %.\"))\n",
    "\n",
    "improved_GC_content (seq5)  "
   ]
  },
  {
   "cell_type": "markdown",
   "metadata": {
    "collapsed": true
   },
   "source": [
    "## 5) Default parameter values\n",
    "\n",
    "In many functions, one parameter will often be the same value, but not always. You'd like to define a default value, that is taken when no explicit value is mentioned when the function is called. However, IF a different value is mentioned in the function call, that one should be used instead of the default value. \n",
    "\n",
    "For example, in the abovementioned `validate_seq` function, I would like to occasionally also be able to check for RNA sequences. RNA contains the bases A, C, G and U, whereas DNA contains A, C, G and T. I will do this with a **flag** and call it **`RNAflag`**. I'll give it the default value `False`, so I don't have to specify the parameter when I deal with DNA sequences, and only when I have an RNA sequence, I will provide the additional parameter `True` in the function call.\n",
    "\n",
    "The flag has to be included not only in the function parameters, but also of course as an expression in the function itself, e.g. as an IF statement. "
   ]
  },
  {
   "cell_type": "code",
   "execution_count": 9,
   "metadata": {},
   "outputs": [
    {
     "name": "stdout",
     "output_type": "stream",
     "text": [
      "True\n",
      "False\n",
      "True\n"
     ]
    }
   ],
   "source": [
    "def validate_DNA_or_RNA_seq (base_seq, RNAflag=False):\n",
    "    '''This function returns True if the string base_seq contains only \n",
    "    upper- or lowercase T (or U, if RNAflag), A, G and C characters.'''\n",
    "    base_seq = base_seq.upper()\n",
    "    return len(base_seq) == (base_seq.count(\"A\") \n",
    "                             + base_seq.count(\"C\") \n",
    "                             + base_seq.count(\"U\" if RNAflag else \"T\") \n",
    "                             + base_seq.count(\"G\"))\n",
    "\n",
    "seq3 = \"aatagtgattcccacacgtgat\" #DNA sequence\n",
    "seq4 = \"abcdkjsdfiosdfjsdklfj\" #gibberish sequence\n",
    "seq5 = \"aucuaucgugucuacua\" #RNA sequence\n",
    "\n",
    "print (validate_DNA_or_RNA_seq(seq3))\n",
    "print (validate_DNA_or_RNA_seq(seq4))\n",
    "print (validate_DNA_or_RNA_seq(seq5, True)) #Here I specify RNAflag = True"
   ]
  },
  {
   "cell_type": "markdown",
   "metadata": {},
   "source": [
    "In the parameter list when you define a function, as well as in the argument list when you call a function, all required arguments have to go before the arguments with optional values (i.e. the ones that have default values defined)."
   ]
  },
  {
   "cell_type": "code",
   "execution_count": null,
   "metadata": {
    "collapsed": true
   },
   "outputs": [],
   "source": []
  }
 ],
 "metadata": {
  "kernelspec": {
   "display_name": "Python 3",
   "language": "python",
   "name": "python3"
  },
  "language_info": {
   "codemirror_mode": {
    "name": "ipython",
    "version": 3
   },
   "file_extension": ".py",
   "mimetype": "text/x-python",
   "name": "python",
   "nbconvert_exporter": "python",
   "pygments_lexer": "ipython3",
   "version": "3.6.3"
  }
 },
 "nbformat": 4,
 "nbformat_minor": 2
}
