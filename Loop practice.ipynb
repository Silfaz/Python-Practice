{
 "cells": [
  {
   "cell_type": "markdown",
   "metadata": {},
   "source": [
    "# LOOPS"
   ]
  },
  {
   "cell_type": "markdown",
   "metadata": {},
   "source": [
    "A **loop executes a chunk of code several times**, depending on the type of loop. \n",
    "\n",
    "A **`while`** loop executes the chunk of code WHILE a certain condition is `True`. The condition is checked every time the loop begins. If the condition is not `True` any more, the while loop is exited. \n",
    "\n",
    "A **`for`** loop executes the chunk of code a specified number of times. After that, the `for` loop is exited. \n",
    "\n",
    "Loops can be inside other loops (= nested loops)."
   ]
  },
  {
   "cell_type": "markdown",
   "metadata": {},
   "source": [
    "## The structure of `while` loops\n",
    "\n",
    "**`while` condition:**\n",
    "\n",
    "       the thing you want to do\n",
    "\n",
    "For example I have a cup of tea that is 50°C hot and I want to drink it when it's under 30°C. The temperature is measured, and if it's still above 30°C, ice is added. Temperature is measured again, more ice is added, etc. \n",
    "\n",
    "A `while` loop is a good choice here, because I want to add ice while the tea still hot. Once the tea has cooled down enough, we can stop adding ice and skip the loop. \n",
    "\n",
    "1) Set the starting temperature of the tea. \n",
    "\n",
    "2) Start the `while` loop with a condition. If the condition is `True`, the `while` loop will be exectued. \n",
    "\n",
    "3) Print how hot the tea is right now and add ice.\n",
    "\n",
    "4) Update the temperature after ice has been added. \n"
   ]
  },
  {
   "cell_type": "code",
   "execution_count": 1,
   "metadata": {},
   "outputs": [
    {
     "name": "stdout",
     "output_type": "stream",
     "text": [
      "Temperature is 50 and too hot. Adding ice.\n",
      "Temperature is 49 and too hot. Adding ice.\n",
      "Temperature is 48 and too hot. Adding ice.\n",
      "Temperature is 47 and too hot. Adding ice.\n",
      "Temperature is 46 and too hot. Adding ice.\n",
      "Temperature is 45 and too hot. Adding ice.\n",
      "Temperature is 44 and too hot. Adding ice.\n",
      "Temperature is 43 and too hot. Adding ice.\n",
      "Temperature is 42 and too hot. Adding ice.\n",
      "Temperature is 41 and too hot. Adding ice.\n",
      "Temperature is 40 and too hot. Adding ice.\n",
      "Temperature is 39 and too hot. Adding ice.\n",
      "Temperature is 38 and too hot. Adding ice.\n",
      "Temperature is 37 and too hot. Adding ice.\n",
      "Temperature is 36 and too hot. Adding ice.\n",
      "Temperature is 35 and too hot. Adding ice.\n",
      "Temperature is 34 and too hot. Adding ice.\n",
      "Temperature is 33 and too hot. Adding ice.\n",
      "Temperature is 32 and too hot. Adding ice.\n",
      "Temperature is 31 and too hot. Adding ice.\n",
      "Final temperature reached!\n"
     ]
    }
   ],
   "source": [
    "temperature = 50 #1) starting temperature\n",
    "while temperature > 30: #2) condition: execute the while loop as long as the tea is above 30°C\n",
    "    print (\"Temperature is \" + str(temperature) + \" and too hot. Adding ice.\") #print the current temperature, add ice\n",
    "    temperature = temperature - 1 #the ice lowers the temperature by 1, so set the new temperature to t-1\n",
    "    \n",
    "print (\"Final temperature reached!\")"
   ]
  },
  {
   "cell_type": "markdown",
   "metadata": {},
   "source": [
    "By printing out each run through the `while` loop we can follow nicely what is happening. Every time ice is added, the temperature drops 1°C. Finally, when the temperature of the tea is no longer above 30°C, the condition for the `while` loop is `False` and the loop is skipped. Instead, the program continues with the command after the `while` loop, which print the statement \"Final temperature reached!\". "
   ]
  },
  {
   "cell_type": "markdown",
   "metadata": {},
   "source": [
    "## The structure of `for` loops\n",
    "\n",
    "**`for` iterating value `in` sequence`:`**\n",
    "\n",
    "    the thing you want to do\n",
    "    \n",
    "    \n",
    "`for` loops are useful when you want to do a certain thing x number of times. \n",
    "For example if I want to print all the numbers in a given range, I first define the range, e.g. `range (0, 5)`. \n",
    "\n",
    "It doesn't matter what I call the iterating value after `for`, it basically means \"for every item in range (0, 5), do this\". "
   ]
  },
  {
   "cell_type": "code",
   "execution_count": 2,
   "metadata": {},
   "outputs": [
    {
     "name": "stdout",
     "output_type": "stream",
     "text": [
      "0\n",
      "1\n",
      "2\n",
      "3\n",
      "4\n"
     ]
    }
   ],
   "source": [
    "for value in range(0,5): #for every item from 0 to 5... \n",
    "    print (value) #... print the item\n",
    "    "
   ]
  },
  {
   "cell_type": "markdown",
   "metadata": {},
   "source": [
    "The `range` function can take up to 3 different parameters. \n",
    "* If you only give it one parameter, e.g. `range (3)`, this means \"generate integers from 0 to 3\". It automatically starts with 0.\n",
    "* If you give it two parameters, they are start and stop parameters, e.g. `range (2, 6)` means \"generate integers from 2 to 6\".\n",
    "* If you give it three paramteres, they are start, stop and step paramters, e.g. `range (3, 8, 2)`. This means \"generate integers from 3 to 8 and increase each step by 2\". \n",
    "\n",
    "Let's quickly practice that:"
   ]
  },
  {
   "cell_type": "code",
   "execution_count": 8,
   "metadata": {},
   "outputs": [
    {
     "name": "stdout",
     "output_type": "stream",
     "text": [
      "0\n",
      "1\n",
      "2\n"
     ]
    }
   ],
   "source": [
    "for value in range (3): #range function with one parameter: stop\n",
    "    print (value)"
   ]
  },
  {
   "cell_type": "code",
   "execution_count": 9,
   "metadata": {},
   "outputs": [
    {
     "name": "stdout",
     "output_type": "stream",
     "text": [
      "2\n",
      "3\n",
      "4\n",
      "5\n",
      "6\n"
     ]
    }
   ],
   "source": [
    "for value in range (2, 7): #range function with two parameters: start-stop\n",
    "    print (value)"
   ]
  },
  {
   "cell_type": "code",
   "execution_count": 10,
   "metadata": {},
   "outputs": [
    {
     "name": "stdout",
     "output_type": "stream",
     "text": [
      "4\n",
      "6\n",
      "8\n"
     ]
    }
   ],
   "source": [
    "for value in range (4, 9, 2): #range function with three parameters: start-stop-step\n",
    "    print (value)"
   ]
  },
  {
   "cell_type": "markdown",
   "metadata": {},
   "source": [
    "The `range` function is used all the time in `for` loops. \n",
    "\n",
    "A list can also be used to iterate in a `for` loop. In that case, the `for` loop takes the first list item, executes the loop, takes the next list item, exectues the loop, etc. until all values have been used. "
   ]
  },
  {
   "cell_type": "code",
   "execution_count": 11,
   "metadata": {},
   "outputs": [
    {
     "name": "stdout",
     "output_type": "stream",
     "text": [
      "12\n",
      "13\n",
      "14\n",
      "55\n",
      "66\n",
      "41\n"
     ]
    }
   ],
   "source": [
    "list1 = [12, 13, 14, 55, 66, 41]\n",
    "for value in list1:\n",
    "    print (value)"
   ]
  },
  {
   "cell_type": "markdown",
   "metadata": {},
   "source": [
    "The `range()` function is also often combined with the **`len()` function**. `len()` gives the length of a list or a string. "
   ]
  },
  {
   "cell_type": "code",
   "execution_count": 20,
   "metadata": {},
   "outputs": [
    {
     "data": {
      "text/plain": [
       "5"
      ]
     },
     "execution_count": 20,
     "metadata": {},
     "output_type": "execute_result"
    }
   ],
   "source": [
    "len (\"What?\")"
   ]
  },
  {
   "cell_type": "code",
   "execution_count": 21,
   "metadata": {},
   "outputs": [
    {
     "name": "stdout",
     "output_type": "stream",
     "text": [
      "0\n",
      "1\n",
      "2\n",
      "3\n",
      "4\n"
     ]
    }
   ],
   "source": [
    "string1 = len(\"What?\") #The length of this string is 5. This is stored in the variable string1\n",
    "\n",
    "for value in range (0, string1):\n",
    "    print (value)"
   ]
  },
  {
   "cell_type": "markdown",
   "metadata": {},
   "source": [
    "----\n",
    "\n",
    "Ok, let's start with few exercised that use loops. \n",
    "\n",
    "## Loop practice 1: `addup`\n",
    "\n",
    "I want to make a function that adds up all of the values in a given list and returns the answer. \n",
    "\n",
    "To add something up, I need a variable where I can \"dump\" the values into. Therefore, I first create create a variable with the value `0` and will continuously add my values to it. "
   ]
  },
  {
   "cell_type": "code",
   "execution_count": 26,
   "metadata": {},
   "outputs": [
    {
     "name": "stdout",
     "output_type": "stream",
     "text": [
      "142\n",
      "297\n",
      "929\n",
      "6052\n",
      "6095\n"
     ]
    }
   ],
   "source": [
    "numberList = [142, 155, 632, 5123, 43] #these are the values I want to add up \n",
    "valueSum = 0 #create an empty variable that will serve as my \"number dump\"\n",
    "for value in numberList: #for each value in my list... \n",
    "    valueSum = valueSum + value #... add the value to the value that is already in the the variable valueSum\n",
    "    print (valueSum)"
   ]
  },
  {
   "cell_type": "markdown",
   "metadata": {},
   "source": [
    "Again, by having a `print` statement inside the `for` loop I can follow nicely what is happening at each step. "
   ]
  },
  {
   "cell_type": "markdown",
   "metadata": {},
   "source": [
    "Loops can of course also be part of **functions**. Functions make sense when I need to do a certain thing, e.g. a calculation, several times. \n",
    "\n",
    "So let's add the above `for` loop into a function, so that every time I want to add together the values of an arbitrarily long list of numbers, I just have to call the function. \n"
   ]
  },
  {
   "cell_type": "code",
   "execution_count": 27,
   "metadata": {
    "collapsed": true
   },
   "outputs": [],
   "source": [
    "def addup (inputList):\n",
    "    valueSum = 0\n",
    "    for value in inputList:\n",
    "        valueSum = valueSum + value\n",
    "    return valueSum"
   ]
  },
  {
   "cell_type": "code",
   "execution_count": 28,
   "metadata": {},
   "outputs": [
    {
     "data": {
      "text/plain": [
       "6095"
      ]
     },
     "execution_count": 28,
     "metadata": {},
     "output_type": "execute_result"
    }
   ],
   "source": [
    "addup (numberList)"
   ]
  },
  {
   "cell_type": "code",
   "execution_count": 35,
   "metadata": {},
   "outputs": [
    {
     "data": {
      "text/plain": [
       "46.14"
      ]
     },
     "execution_count": 35,
     "metadata": {},
     "output_type": "execute_result"
    }
   ],
   "source": [
    "numberList2 = [3.15, 4.55, 38.44]\n",
    "addup (numberList2)"
   ]
  },
  {
   "cell_type": "markdown",
   "metadata": {},
   "source": [
    "## Loop practice 2: `multup`\n",
    "\n",
    "I want to write a function that mulitplies all the numbers in a list together and returns the product."
   ]
  },
  {
   "cell_type": "code",
   "execution_count": 55,
   "metadata": {
    "collapsed": true
   },
   "outputs": [],
   "source": [
    "numberList2 = [8, 2, 3, -1, 7]\n",
    "def multup (inputList2):\n",
    "    valueProduct = 1 #This needs to be 1, otherwise you'll multiply with 0! \n",
    "    for value in inputList2:\n",
    "        valueProduct = valueProduct * value\n",
    "    return valueProduct"
   ]
  },
  {
   "cell_type": "code",
   "execution_count": 56,
   "metadata": {},
   "outputs": [
    {
     "data": {
      "text/plain": [
       "-336"
      ]
     },
     "execution_count": 56,
     "metadata": {},
     "output_type": "execute_result"
    }
   ],
   "source": [
    "multup (numberList2)"
   ]
  },
  {
   "cell_type": "markdown",
   "metadata": {},
   "source": [
    "## Loop practice 3: `stringrev`\n",
    "\n",
    "I want to reverse a string. \n",
    "\n"
   ]
  },
  {
   "cell_type": "code",
   "execution_count": 57,
   "metadata": {
    "collapsed": true
   },
   "outputs": [],
   "source": [
    "sampleString = \"1234abcd\"\n",
    "\n",
    "def stringrev (inputString):\n",
    "    outputString = \"\"\n",
    "    for character in inputString:\n",
    "        outputString = character + outputString\n",
    "    return outputString\n"
   ]
  },
  {
   "cell_type": "code",
   "execution_count": 58,
   "metadata": {},
   "outputs": [
    {
     "data": {
      "text/plain": [
       "'dcba4321'"
      ]
     },
     "execution_count": 58,
     "metadata": {},
     "output_type": "execute_result"
    }
   ],
   "source": [
    "stringrev (sampleString)"
   ]
  },
  {
   "cell_type": "markdown",
   "metadata": {},
   "source": [
    "## Loop practice 4: `factorial`\n",
    "\n",
    "I want to calculate the factorial of a number. (Factorial = product of all positive integers <= n)."
   ]
  },
  {
   "cell_type": "code",
   "execution_count": 59,
   "metadata": {
    "collapsed": true
   },
   "outputs": [],
   "source": [
    "sampleNumber = 5\n",
    "\n",
    "def factorial (inputNumber):\n",
    "    factorialProduct = 1\n",
    "    for number in range (1, inputNumber+1): #range is inclusive on the lower end and non-inclusive on the higher end. Therefore, add +1.\n",
    "        factorialProduct = factorialProduct * number\n",
    "        print (factorialProduct)\n",
    "    return factorialProduct"
   ]
  },
  {
   "cell_type": "code",
   "execution_count": 60,
   "metadata": {},
   "outputs": [
    {
     "name": "stdout",
     "output_type": "stream",
     "text": [
      "1\n",
      "2\n",
      "6\n",
      "24\n",
      "120\n"
     ]
    },
    {
     "data": {
      "text/plain": [
       "120"
      ]
     },
     "execution_count": 60,
     "metadata": {},
     "output_type": "execute_result"
    }
   ],
   "source": [
    "factorial (sampleNumber)"
   ]
  },
  {
   "cell_type": "markdown",
   "metadata": {},
   "source": [
    "Alternative way to solve this problem with a **recursive function** (without using a loop):"
   ]
  },
  {
   "cell_type": "code",
   "execution_count": 40,
   "metadata": {},
   "outputs": [
    {
     "data": {
      "text/plain": [
       "120"
      ]
     },
     "execution_count": 40,
     "metadata": {},
     "output_type": "execute_result"
    }
   ],
   "source": [
    "sampleNumber = 5\n",
    "\n",
    "def factorial2 (inputNumber):\n",
    "    if inputNumber == 0: return 1\n",
    "    return factorial2(inputNumber-1)*inputNumber\n",
    "\n",
    "factorial2(5)"
   ]
  },
  {
   "cell_type": "markdown",
   "metadata": {},
   "source": [
    "Here's what's happening step by step in more detail. Basically the computer \n",
    "* starts going through the function\n",
    "* checks if the if condition is met (is numb == 0? No? Ok, continue downwards)\n",
    "* and comes to the piece of code that calculates the sum of numb with the function's output of numb-1. \n",
    "* Therefore it needs to go back and calculated the sum of numb-1 with the function's output of (numb-1)-1\n",
    "* etc.\n",
    "* until it hits 0\n",
    "* then the computer can calculate all the \"open\" calculations from before"
   ]
  },
  {
   "cell_type": "code",
   "execution_count": 52,
   "metadata": {},
   "outputs": [
    {
     "name": "stdout",
     "output_type": "stream",
     "text": [
      "Now calculating recurSum(5)\n",
      "Checking to see if we've hit 0\n",
      "We haven't hit the bottom.\n",
      "I'm now going to calculate 5 plus recurSum(4)\n",
      "Now calculating recurSum(4)\n",
      "Checking to see if we've hit 0\n",
      "We haven't hit the bottom.\n",
      "I'm now going to calculate 4 plus recurSum(3)\n",
      "Now calculating recurSum(3)\n",
      "Checking to see if we've hit 0\n",
      "We haven't hit the bottom.\n",
      "I'm now going to calculate 3 plus recurSum(2)\n",
      "Now calculating recurSum(2)\n",
      "Checking to see if we've hit 0\n",
      "We haven't hit the bottom.\n",
      "I'm now going to calculate 2 plus recurSum(1)\n",
      "Now calculating recurSum(1)\n",
      "Checking to see if we've hit 0\n",
      "We haven't hit the bottom.\n",
      "I'm now going to calculate 1 plus recurSum(0)\n",
      "Now calculating recurSum(0)\n",
      "Checking to see if we've hit 0\n",
      "We hit the bottom!\n"
     ]
    },
    {
     "data": {
      "text/plain": [
       "15"
      ]
     },
     "execution_count": 52,
     "metadata": {},
     "output_type": "execute_result"
    }
   ],
   "source": [
    "def recurSum(numb):\n",
    "    print(\"Now calculating recurSum(\"+ str(numb) +\")\")\n",
    "    print(\"Checking to see if we've hit 0\")\n",
    "    if numb == 0: \n",
    "        print(\"We hit the bottom!\")\n",
    "        return numb\n",
    "    print(\"We haven't hit the bottom.\")\n",
    "    print(\"I'm now going to calculate \"+str(numb)+\" plus recurSum(\"+str(numb-1)+\")\")\n",
    "    return numb + recurSum(numb-1)\n",
    "\n",
    "recurSum(5)\n",
    "    "
   ]
  },
  {
   "cell_type": "markdown",
   "metadata": {
    "collapsed": true
   },
   "source": [
    "## Loop practice 5: `countchar`\n",
    "\n",
    "I want to print out the number of uppercase and lowercase characters from a given string.\n",
    "\n",
    "First, I need a function that checks if a string (character) is uppercase or lowercase. This can be done withe functions `.isupper()` and `.islower()`. These functions return `True` or `False`. "
   ]
  },
  {
   "cell_type": "code",
   "execution_count": 65,
   "metadata": {},
   "outputs": [
    {
     "data": {
      "text/plain": [
       "True"
      ]
     },
     "execution_count": 65,
     "metadata": {},
     "output_type": "execute_result"
    }
   ],
   "source": [
    "inputString = \"duncan is awesome\"\n",
    "inputString.islower()\n"
   ]
  },
  {
   "cell_type": "code",
   "execution_count": 66,
   "metadata": {},
   "outputs": [
    {
     "data": {
      "text/plain": [
       "False"
      ]
     },
     "execution_count": 66,
     "metadata": {},
     "output_type": "execute_result"
    }
   ],
   "source": [
    "inputString.isupper()"
   ]
  },
  {
   "cell_type": "code",
   "execution_count": 71,
   "metadata": {
    "collapsed": true
   },
   "outputs": [],
   "source": [
    "def countChar (inputString):\n",
    "    uppercase_char = 0\n",
    "    lowercase_char = 0\n",
    "    #I loop through each character\n",
    "    for character in inputString:\n",
    "        #I check if this character is uppercase. If true, add to uppercase_char. If false, continue. \n",
    "        if character.isupper() == True:\n",
    "            uppercase_char = uppercase_char + 1\n",
    "            \n",
    "        #I check if this character is lowercase. If true, add to lowercase_char. If false, continue. \n",
    "        if character.islower() == True:\n",
    "            lowercase_char = lowercase_char +1\n",
    "            \n",
    "    #Print out the totals of uppercase_char and lowercase_char. \n",
    "    print (\"Number of uppercase characters in this string: \"+ str(uppercase_char))\n",
    "    print (\"Number of lowercase characters in this string: \"+ str(lowercase_char))\n",
    "    \n",
    "    return\n",
    "    "
   ]
  },
  {
   "cell_type": "code",
   "execution_count": 75,
   "metadata": {},
   "outputs": [
    {
     "name": "stdout",
     "output_type": "stream",
     "text": [
      "Number of uppercase characters in this string: 11\n",
      "Number of lowercase characters in this string: 12\n"
     ]
    }
   ],
   "source": [
    "countChar (\"The quick Brow Fox JUMP JUMP\")"
   ]
  },
  {
   "cell_type": "markdown",
   "metadata": {},
   "source": []
  }
 ],
 "metadata": {
  "kernelspec": {
   "display_name": "Python 3",
   "language": "python",
   "name": "python3"
  },
  "language_info": {
   "codemirror_mode": {
    "name": "ipython",
    "version": 3
   },
   "file_extension": ".py",
   "mimetype": "text/x-python",
   "name": "python",
   "nbconvert_exporter": "python",
   "pygments_lexer": "ipython3",
   "version": "3.6.3"
  }
 },
 "nbformat": 4,
 "nbformat_minor": 2
}
